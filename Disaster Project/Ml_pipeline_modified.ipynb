{
 "cells": [
  {
   "cell_type": "code",
   "execution_count": 1,
   "id": "1654ddb3",
   "metadata": {
    "id": "1654ddb3"
   },
   "outputs": [],
   "source": [
    "##importing required libraries\n",
    "# import libraries\n",
    "import pandas as pd\n",
    "from sqlalchemy import create_engine\n",
    "import numpy as np\n",
    "import matplotlib.pyplot as plt\n",
    "import nltk\n",
    "from nltk.corpus import stopwords\n",
    "from nltk.stem.snowball import SnowballStemmer\n",
    "import re\n",
    "import pickle\n",
    "from sklearn.model_selection import GridSearchCV\n",
    "from sklearn.metrics import classification_report\n",
    "from sklearn.multioutput import MultiOutputClassifier\n",
    "from sklearn.ensemble import RandomForestClassifier\n",
    "from sklearn.model_selection import train_test_split\n",
    "from sklearn.feature_extraction.text import TfidfVectorizer"
   ]
  },
  {
   "cell_type": "markdown",
   "id": "df27647b",
   "metadata": {},
   "source": [
    "<h1>Functions</h1>"
   ]
  },
  {
   "cell_type": "code",
   "execution_count": 2,
   "id": "ecdbdf97",
   "metadata": {
    "id": "ecdbdf97"
   },
   "outputs": [],
   "source": [
    "#function to remove punctuation or any special characters\n",
    "def removePunc(sentence): \n",
    "    processed = re.sub(r'[?|!|\\'|\"|#]',r'',sentence)\n",
    "    processed = re.sub(r'[.|,|)|(|\\|/]',r' ',processed)\n",
    "    processed = processed.strip()\n",
    "    processed = processed.replace(\"\\n\",\" \")\n",
    "    return processed"
   ]
  },
  {
   "cell_type": "code",
   "execution_count": 3,
   "id": "00a0cbd1",
   "metadata": {
    "id": "00a0cbd1"
   },
   "outputs": [],
   "source": [
    "def removeNonAlphabets(sentence):\n",
    "    final_sent = \"\"\n",
    "    for word in sentence.split():\n",
    "        alpha_word = re.sub('[^a-z A-Z]+', ' ', word)\n",
    "        final_sent += alpha_word\n",
    "        final_sent += \" \"\n",
    "    final_sent = final_sent.strip()\n",
    "    return final_sent"
   ]
  },
  {
   "cell_type": "code",
   "execution_count": 4,
   "id": "728555d8",
   "metadata": {
    "id": "728555d8"
   },
   "outputs": [],
   "source": [
    "def removeHTMLtags(sentence):\n",
    "    tags = re.compile('<.*?>')\n",
    "    cleaned = re.sub(tags, ' ', str(sentence))\n",
    "    return cleaned"
   ]
  },
  {
   "cell_type": "code",
   "execution_count": 5,
   "id": "4c6a73f3",
   "metadata": {
    "colab": {
     "base_uri": "https://localhost:8080/"
    },
    "id": "4c6a73f3",
    "outputId": "947a1ead-e9ae-4846-acce-f7efbe153c3e"
   },
   "outputs": [],
   "source": [
    "def removeStopWords(sentence):\n",
    "    global re_stop_words\n",
    "    return re_stop_words.sub(\" \", sentence)"
   ]
  },
  {
   "cell_type": "code",
   "execution_count": 6,
   "id": "d5622baf",
   "metadata": {
    "id": "d5622baf"
   },
   "outputs": [],
   "source": [
    "##use SnowBall Stemmer for Stemming purpose\n",
    "stemmer = SnowballStemmer(\"english\")\n",
    "\n",
    "def stemming(sentence):\n",
    "    finalSentence = \"\"\n",
    "    for word in sentence.split():\n",
    "        stemmed = stemmer.stem(word)\n",
    "        finalSentence += stemmed\n",
    "        finalSentence += \" \"\n",
    "    finalSentence = finalSentence.strip()\n",
    "    return finalSentence"
   ]
  },
  {
   "cell_type": "code",
   "execution_count": 7,
   "id": "f7a220c8",
   "metadata": {
    "id": "f7a220c8"
   },
   "outputs": [],
   "source": [
    "def clean_text(text_data):\n",
    "    text_data = text_data.apply(removeHTMLtags)\n",
    "    text_data = text_data.apply(removePunc)\n",
    "    text_data = text_data.apply(removeNonAlphabets)\n",
    "    text_data = text_data.apply(removeStopWords)\n",
    "    text_data = text_data.apply(stemming)\n",
    "    return text_data"
   ]
  },
  {
   "cell_type": "code",
   "execution_count": 8,
   "id": "4ef27d34",
   "metadata": {
    "id": "4ef27d34"
   },
   "outputs": [],
   "source": [
    "def read_database(filename):\n",
    "    '''\n",
    "        Function reads a SQLite Database File and converts it to a DataFrame\n",
    "    '''\n",
    "    # Creating SQLite Engine to import DataFrame as DataBase\n",
    "    engine = create_engine('sqlite:///DisasterResponse.db')\n",
    "    data = pd.read_sql_table(table_name = 'InsertTableName', con = engine)\n",
    "    return data"
   ]
  },
  {
   "cell_type": "code",
   "execution_count": 9,
   "id": "b16dc65b",
   "metadata": {},
   "outputs": [],
   "source": [
    "def vector_generator(train_df, test_df, analyzer_, stop_words_, max_features_, labels_to_drop):\n",
    "    '''\n",
    "        Function takes in training and testing data and generates and returns feature vectors\n",
    "    '''\n",
    "    vectorizer = TfidfVectorizer(analyzer = analyzer_ , stop_words = stop_words_, max_features = max_features_)\n",
    "\n",
    "    train_text = train_df[\"message\"]\n",
    "    test_text = test_df[\"message\"]\n",
    "\n",
    "    vectorizer.fit(train_text)\n",
    "    vectorizer.fit(test_text)\n",
    "\n",
    "    x_train = vectorizer.fit_transform(train_text)\n",
    "    y_train = train_df.drop(labels = labels_to_drop, axis=1)\n",
    "\n",
    "    x_test = vectorizer.fit_transform(test_text)\n",
    "    y_test = test_df.drop(labels =  labels_to_drop, axis=1)\n",
    "    \n",
    "    return x_train, y_train, x_test, y_test"
   ]
  },
  {
   "cell_type": "code",
   "execution_count": 10,
   "id": "bdbac472",
   "metadata": {},
   "outputs": [],
   "source": [
    "def generate_results(y_test_array, predictions, fields):\n",
    "    '''\n",
    "        Function accepts test data output, predictions from model, and fields and returns classification report \n",
    "    '''\n",
    "    return classification_report(y_test_array, np.array([x[:] for x in predictions]), target_names = fields)"
   ]
  },
  {
   "cell_type": "code",
   "execution_count": 11,
   "id": "35407044",
   "metadata": {},
   "outputs": [],
   "source": [
    "def best_estimator(training_x, training_y, model_parameters, cross_validation_count):\n",
    "    '''\n",
    "        Function takes in training data and model_parameters to be tested, \n",
    "        returns bests parameters found using GridSearch\n",
    "    '''\n",
    "    # defining parameter range\n",
    "    researched_grid = GridSearchCV(RandomForestClassifier(), model_parameters, cv=cross_validation_count, scoring='accuracy', return_train_score=False, verbose=1)\n",
    "\n",
    "      # fitting the model for grid search\n",
    "    grid_research=researched_grid.fit(training_x, training_y)\n",
    "\n",
    "    # getting the best estimator\n",
    "    best_model = grid_research.best_estimator_ \n",
    "    \n",
    "    return best_model"
   ]
  },
  {
   "cell_type": "markdown",
   "id": "79243354",
   "metadata": {},
   "source": [
    "<h1>Deployment using Random Forest CLassifier and TF-IDF</h1>"
   ]
  },
  {
   "cell_type": "code",
   "execution_count": 12,
   "id": "78f92c77",
   "metadata": {},
   "outputs": [
    {
     "name": "stderr",
     "output_type": "stream",
     "text": [
      "[nltk_data] Downloading package stopwords to\n",
      "[nltk_data]     /home/zeeshan/nltk_data...\n",
      "[nltk_data]   Package stopwords is already up-to-date!\n"
     ]
    },
    {
     "name": "stdout",
     "output_type": "stream",
     "text": [
      "   id                                            message  \\\n",
      "0   2  Weather update - a cold front from Cuba that c...   \n",
      "1   7            Is the Hurricane over or is it not over   \n",
      "2   8                    Looking for someone but no name   \n",
      "3   9  UN reports Leogane 80-90 destroyed. Only Hospi...   \n",
      "4  12  says: west side of Haiti, rest of the country ...   \n",
      "\n",
      "                                            original   genre  related  \\\n",
      "0  Un front froid se retrouve sur Cuba ce matin. ...  direct        1   \n",
      "1                 Cyclone nan fini osinon li pa fini  direct        1   \n",
      "2  Patnm, di Maryani relem pou li banm nouvel li ...  direct        1   \n",
      "3  UN reports Leogane 80-90 destroyed. Only Hospi...  direct        1   \n",
      "4  facade ouest d Haiti et le reste du pays aujou...  direct        1   \n",
      "\n",
      "   request  offer  aid_related  medical_help  medical_products  ...  \\\n",
      "0        0      0            0             0                 0  ...   \n",
      "1        0      0            1             0                 0  ...   \n",
      "2        0      0            0             0                 0  ...   \n",
      "3        1      0            1             0                 1  ...   \n",
      "4        0      0            0             0                 0  ...   \n",
      "\n",
      "   aid_centers  other_infrastructure  weather_related  floods  storm  fire  \\\n",
      "0            0                     0                0       0      0     0   \n",
      "1            0                     0                1       0      1     0   \n",
      "2            0                     0                0       0      0     0   \n",
      "3            0                     0                0       0      0     0   \n",
      "4            0                     0                0       0      0     0   \n",
      "\n",
      "   earthquake  cold  other_weather  direct_report  \n",
      "0           0     0              0              0  \n",
      "1           0     0              0              0  \n",
      "2           0     0              0              0  \n",
      "3           0     0              0              0  \n",
      "4           0     0              0              0  \n",
      "\n",
      "[5 rows x 40 columns]\n",
      "   id                                            message  \\\n",
      "0   2     weather updat cold front cuba could pass haiti   \n",
      "1   7                                      hurrican over   \n",
      "2   8                                   look someon name   \n",
      "3   9  un report leogan destroy hospit st croix funct...   \n",
      "4  12     say west side haiti rest countri today tonight   \n",
      "\n",
      "                                            original   genre  related  \\\n",
      "0  Un front froid se retrouve sur Cuba ce matin. ...  direct        0   \n",
      "1                 Cyclone nan fini osinon li pa fini  direct        0   \n",
      "2  Patnm, di Maryani relem pou li banm nouvel li ...  direct        0   \n",
      "3  UN reports Leogane 80-90 destroyed. Only Hospi...  direct        0   \n",
      "4  facade ouest d Haiti et le reste du pays aujou...  direct        0   \n",
      "\n",
      "   request  offer  aid_related  medical_help  medical_products  ...  \\\n",
      "0        0      0            0             0                 0  ...   \n",
      "1        0      0            1             0                 0  ...   \n",
      "2        0      0            0             0                 0  ...   \n",
      "3        1      0            1             0                 1  ...   \n",
      "4        0      0            0             0                 0  ...   \n",
      "\n",
      "   aid_centers  other_infrastructure  weather_related  floods  storm  fire  \\\n",
      "0            0                     0                0       0      0     0   \n",
      "1            0                     0                1       0      1     0   \n",
      "2            0                     0                0       0      0     0   \n",
      "3            0                     0                0       0      0     0   \n",
      "4            0                     0                0       0      0     0   \n",
      "\n",
      "   earthquake  cold  other_weather  direct_report  \n",
      "0           0     0              0              0  \n",
      "1           0     0              0              0  \n",
      "2           0     0              0              0  \n",
      "3           0     0              0              0  \n",
      "4           0     0              0              0  \n",
      "\n",
      "[5 rows x 40 columns]\n",
      "                        precision    recall  f1-score   support\n",
      "\n",
      "               related       0.08      0.01      0.02        68\n",
      "               request       0.07      0.00      0.01      1466\n",
      "                 offer       0.00      0.00      0.00        41\n",
      "           aid_related       0.48      0.30      0.37      3549\n",
      "          medical_help       0.42      0.09      0.14       688\n",
      "      medical_products       0.36      0.06      0.10       411\n",
      "     search_and_rescue       0.00      0.00      0.00       245\n",
      "              security       0.00      0.00      0.00       170\n",
      "              military       0.15      0.01      0.03       286\n",
      "           child_alone       0.00      0.00      0.00         0\n",
      "                 water       0.00      0.00      0.00       543\n",
      "                  food       0.13      0.02      0.04       939\n",
      "               shelter       0.20      0.03      0.06       762\n",
      "              clothing       0.00      0.00      0.00       123\n",
      "                 money       0.00      0.00      0.00       195\n",
      "        missing_people       0.00      0.00      0.00        87\n",
      "              refugees       0.00      0.00      0.00       327\n",
      "                 death       0.00      0.00      0.00       390\n",
      "             other_aid       0.05      0.00      0.00      1113\n",
      "infrastructure_related       0.00      0.00      0.00       593\n",
      "             transport       0.08      0.02      0.03       395\n",
      "             buildings       0.05      0.00      0.00       471\n",
      "           electricity       0.00      0.00      0.00       168\n",
      "                 tools       0.00      0.00      0.00        47\n",
      "             hospitals       0.00      0.00      0.00        97\n",
      "                 shops       0.00      0.00      0.00        56\n",
      "           aid_centers       0.00      0.00      0.00       115\n",
      "  other_infrastructure       0.00      0.00      0.00       389\n",
      "       weather_related       0.32      0.24      0.27      2350\n",
      "                floods       0.01      0.00      0.00       688\n",
      "                 storm       0.12      0.05      0.07       797\n",
      "                  fire       0.00      0.00      0.00        95\n",
      "            earthquake       0.06      0.03      0.04       782\n",
      "                  cold       0.72      0.17      0.28       182\n",
      "         other_weather       0.03      0.00      0.01       439\n",
      "         direct_report       0.12      0.01      0.02      1688\n",
      "\n",
      "             micro avg       0.31      0.09      0.14     20755\n",
      "             macro avg       0.10      0.03      0.04     20755\n",
      "          weighted avg       0.19      0.09      0.12     20755\n",
      "           samples avg       0.14      0.05      0.07     20755\n",
      "\n"
     ]
    },
    {
     "name": "stderr",
     "output_type": "stream",
     "text": [
      "/home/zeeshan/anaconda3/lib/python3.8/site-packages/sklearn/metrics/_classification.py:1245: UndefinedMetricWarning: Precision and F-score are ill-defined and being set to 0.0 in labels with no predicted samples. Use `zero_division` parameter to control this behavior.\n",
      "  _warn_prf(average, modifier, msg_start, len(result))\n",
      "/home/zeeshan/anaconda3/lib/python3.8/site-packages/sklearn/metrics/_classification.py:1245: UndefinedMetricWarning: Recall and F-score are ill-defined and being set to 0.0 in labels with no true samples. Use `zero_division` parameter to control this behavior.\n",
      "  _warn_prf(average, modifier, msg_start, len(result))\n",
      "/home/zeeshan/anaconda3/lib/python3.8/site-packages/sklearn/metrics/_classification.py:1245: UndefinedMetricWarning: Precision and F-score are ill-defined and being set to 0.0 in samples with no predicted labels. Use `zero_division` parameter to control this behavior.\n",
      "  _warn_prf(average, modifier, msg_start, len(result))\n",
      "/home/zeeshan/anaconda3/lib/python3.8/site-packages/sklearn/metrics/_classification.py:1245: UndefinedMetricWarning: Recall and F-score are ill-defined and being set to 0.0 in samples with no true labels. Use `zero_division` parameter to control this behavior.\n",
      "  _warn_prf(average, modifier, msg_start, len(result))\n"
     ]
    }
   ],
   "source": [
    "if __name__ == \"__main__\":\n",
    "    # Downloading stopwords\n",
    "    nltk.download('stopwords')\n",
    "    stop_words = set(stopwords.words('english'))\n",
    "    re_stop_words = re.compile(r\"\\b(\" + \"|\".join(stop_words) + \")\\\\W\", re.I)##compiling into regex to remove them\n",
    "\n",
    "    ##use SnowBall Stemmer for Stemming purpose\n",
    "    stemmer = SnowballStemmer(\"english\")\n",
    "    \n",
    "    df = read_database('sqlite:///DisasterResponse.db')\n",
    "    print(df.head())\n",
    "    \n",
    "    df.drop_duplicates(subset = \"id\", inplace=True)\n",
    "    \n",
    "    df[\"message\"] = clean_text(df[\"message\"])\n",
    "    # replaces anomalous values (2) in data with 1\n",
    "    df[\"related\"] = df[\"related\"].map(lambda a: 1 if a > 1 else 0)\n",
    "    df.to_csv(\"/Cleaned.csv\")\n",
    "    print(df.head())\n",
    "    \n",
    "    train, test = train_test_split(df, random_state=42, test_size=0.33, shuffle=True)\n",
    "\n",
    "    # Feature Vectors are generated\n",
    "    x_train, y_train, x_test, y_test = vector_generator(train, test, \"word\", \"english\", 500, ['message','id','original','genre'])\n",
    "\n",
    "    #RandomForestClassifier is used to build model\n",
    "    clf2 = MultiOutputClassifier(RandomForestClassifier()).fit(x_train, y_train)\n",
    "    predicted = clf2.predict(x_test)\n",
    "    \n",
    "    print(generate_results(y_test.iloc[:, :].values, predicted, y_test.columns))"
   ]
  },
  {
   "cell_type": "markdown",
   "id": "4f03df9c",
   "metadata": {},
   "source": [
    "# Using bag of words feature extractor and random forest classifier(best performance on targeted data)"
   ]
  },
  {
   "cell_type": "code",
   "execution_count": 13,
   "id": "dd91096d",
   "metadata": {},
   "outputs": [],
   "source": [
    "from sklearn.feature_extraction.text import CountVectorizer\n",
    "vectorizer = CountVectorizer(max_features=500, min_df=5, max_df=0.7, stop_words=stopwords.words('english'))\n",
    "X_train = vectorizer.fit_transform(train[\"message\"]).toarray()\n",
    "X_test = vectorizer.fit_transform(test[\"message\"]).toarray()"
   ]
  },
  {
   "cell_type": "code",
   "execution_count": 14,
   "id": "013bb321",
   "metadata": {},
   "outputs": [
    {
     "data": {
      "text/plain": [
       "(17540, 500)"
      ]
     },
     "execution_count": 14,
     "metadata": {},
     "output_type": "execute_result"
    }
   ],
   "source": [
    "X_train.shape"
   ]
  },
  {
   "cell_type": "code",
   "execution_count": 15,
   "id": "55daa11b",
   "metadata": {},
   "outputs": [],
   "source": [
    "Y_train = train.drop([\"id\", \"message\", \"original\", \"genre\"], axis = 1)"
   ]
  },
  {
   "cell_type": "code",
   "execution_count": 16,
   "id": "d1a3995a",
   "metadata": {},
   "outputs": [],
   "source": [
    "Y_test = test.drop([\"id\", \"message\", \"original\", \"genre\"], axis = 1)"
   ]
  },
  {
   "cell_type": "code",
   "execution_count": 17,
   "id": "0f2a11a2",
   "metadata": {},
   "outputs": [
    {
     "data": {
      "text/plain": [
       "(17540, 36)"
      ]
     },
     "execution_count": 17,
     "metadata": {},
     "output_type": "execute_result"
    }
   ],
   "source": [
    "Y_train.shape"
   ]
  },
  {
   "cell_type": "code",
   "execution_count": 18,
   "id": "f6bacba1",
   "metadata": {},
   "outputs": [],
   "source": [
    "# RandomForestClassifier is used to build model\n",
    "clf3 = MultiOutputClassifier(RandomForestClassifier()).fit(X_train, Y_train)\n",
    "predicted = clf3.predict(X_test)\n"
   ]
  },
  {
   "cell_type": "code",
   "execution_count": 19,
   "id": "57c5fa95",
   "metadata": {},
   "outputs": [
    {
     "name": "stdout",
     "output_type": "stream",
     "text": [
      "                        precision    recall  f1-score   support\n",
      "\n",
      "               related       0.05      0.04      0.05        68\n",
      "               request       0.42      0.09      0.15      1466\n",
      "                 offer       0.00      0.00      0.00        41\n",
      "           aid_related       0.54      0.36      0.43      3549\n",
      "          medical_help       0.38      0.06      0.11       688\n",
      "      medical_products       0.46      0.17      0.25       411\n",
      "     search_and_rescue       0.00      0.00      0.00       245\n",
      "              security       0.00      0.00      0.00       170\n",
      "              military       0.06      0.01      0.02       286\n",
      "           child_alone       0.00      0.00      0.00         0\n",
      "                 water       0.38      0.02      0.04       543\n",
      "                  food       0.21      0.16      0.18       939\n",
      "               shelter       0.33      0.05      0.09       762\n",
      "              clothing       0.03      0.01      0.01       123\n",
      "                 money       0.15      0.04      0.06       195\n",
      "        missing_people       0.00      0.00      0.00        87\n",
      "              refugees       0.08      0.03      0.04       327\n",
      "                 death       0.12      0.07      0.09       390\n",
      "             other_aid       0.39      0.13      0.19      1113\n",
      "infrastructure_related       0.59      0.04      0.07       593\n",
      "             transport       0.11      0.02      0.04       395\n",
      "             buildings       0.17      0.07      0.10       471\n",
      "           electricity       0.15      0.02      0.03       168\n",
      "                 tools       0.00      0.00      0.00        47\n",
      "             hospitals       0.00      0.00      0.00        97\n",
      "                 shops       0.00      0.00      0.00        56\n",
      "           aid_centers       0.33      0.01      0.02       115\n",
      "  other_infrastructure       0.20      0.01      0.02       389\n",
      "       weather_related       0.40      0.25      0.31      2350\n",
      "                floods       0.28      0.06      0.10       688\n",
      "                 storm       0.38      0.18      0.24       797\n",
      "                  fire       0.00      0.00      0.00        95\n",
      "            earthquake       0.07      0.03      0.04       782\n",
      "                  cold       0.05      0.03      0.03       182\n",
      "         other_weather       0.08      0.03      0.04       439\n",
      "         direct_report       0.40      0.10      0.16      1688\n",
      "\n",
      "             micro avg       0.37      0.14      0.21     20755\n",
      "             macro avg       0.19      0.06      0.08     20755\n",
      "          weighted avg       0.34      0.14      0.19     20755\n",
      "           samples avg       0.16      0.08      0.09     20755\n",
      "\n"
     ]
    },
    {
     "name": "stderr",
     "output_type": "stream",
     "text": [
      "/home/zeeshan/anaconda3/lib/python3.8/site-packages/sklearn/metrics/_classification.py:1245: UndefinedMetricWarning: Precision and F-score are ill-defined and being set to 0.0 in labels with no predicted samples. Use `zero_division` parameter to control this behavior.\n",
      "  _warn_prf(average, modifier, msg_start, len(result))\n",
      "/home/zeeshan/anaconda3/lib/python3.8/site-packages/sklearn/metrics/_classification.py:1245: UndefinedMetricWarning: Recall and F-score are ill-defined and being set to 0.0 in labels with no true samples. Use `zero_division` parameter to control this behavior.\n",
      "  _warn_prf(average, modifier, msg_start, len(result))\n",
      "/home/zeeshan/anaconda3/lib/python3.8/site-packages/sklearn/metrics/_classification.py:1245: UndefinedMetricWarning: Precision and F-score are ill-defined and being set to 0.0 in samples with no predicted labels. Use `zero_division` parameter to control this behavior.\n",
      "  _warn_prf(average, modifier, msg_start, len(result))\n",
      "/home/zeeshan/anaconda3/lib/python3.8/site-packages/sklearn/metrics/_classification.py:1245: UndefinedMetricWarning: Recall and F-score are ill-defined and being set to 0.0 in samples with no true labels. Use `zero_division` parameter to control this behavior.\n",
      "  _warn_prf(average, modifier, msg_start, len(result))\n"
     ]
    }
   ],
   "source": [
    "print(generate_results(Y_test.iloc[:, :].values, predicted, Y_test.columns))"
   ]
  },
  {
   "cell_type": "markdown",
   "id": "c1ce5379",
   "metadata": {},
   "source": [
    "# Using bag of words feature extractor and Kneighbor classifier"
   ]
  },
  {
   "cell_type": "code",
   "execution_count": 20,
   "id": "8d43308b",
   "metadata": {},
   "outputs": [],
   "source": [
    "# RandomForestClassifier is used to build model\n",
    "from sklearn.neighbors import KNeighborsClassifier\n",
    "clf4 = MultiOutputClassifier(KNeighborsClassifier()).fit(X_train, Y_train)\n",
    "predicted = clf4.predict(X_test)"
   ]
  },
  {
   "cell_type": "code",
   "execution_count": 21,
   "id": "1cfab1ef",
   "metadata": {},
   "outputs": [
    {
     "name": "stdout",
     "output_type": "stream",
     "text": [
      "                        precision    recall  f1-score   support\n",
      "\n",
      "               related       0.00      0.00      0.00        68\n",
      "               request       0.33      0.02      0.04      1466\n",
      "                 offer       0.00      0.00      0.00        41\n",
      "           aid_related       0.60      0.09      0.15      3549\n",
      "          medical_help       0.82      0.01      0.03       688\n",
      "      medical_products       0.50      0.00      0.01       411\n",
      "     search_and_rescue       0.00      0.00      0.00       245\n",
      "              security       0.00      0.00      0.00       170\n",
      "              military       0.00      0.00      0.00       286\n",
      "           child_alone       0.00      0.00      0.00         0\n",
      "                 water       0.60      0.01      0.01       543\n",
      "                  food       0.12      0.01      0.02       939\n",
      "               shelter       0.50      0.00      0.01       762\n",
      "              clothing       0.00      0.00      0.00       123\n",
      "                 money       0.00      0.00      0.00       195\n",
      "        missing_people       0.00      0.00      0.00        87\n",
      "              refugees       0.50      0.01      0.01       327\n",
      "                 death       0.50      0.01      0.01       390\n",
      "             other_aid       0.41      0.05      0.09      1113\n",
      "infrastructure_related       0.67      0.00      0.01       593\n",
      "             transport       0.50      0.00      0.01       395\n",
      "             buildings       0.25      0.00      0.00       471\n",
      "           electricity       0.00      0.00      0.00       168\n",
      "                 tools       0.00      0.00      0.00        47\n",
      "             hospitals       0.00      0.00      0.00        97\n",
      "                 shops       0.00      0.00      0.00        56\n",
      "           aid_centers       0.00      0.00      0.00       115\n",
      "  other_infrastructure       0.50      0.00      0.01       389\n",
      "       weather_related       0.58      0.07      0.13      2350\n",
      "                floods       0.33      0.00      0.01       688\n",
      "                 storm       0.72      0.10      0.17       797\n",
      "                  fire       0.00      0.00      0.00        95\n",
      "            earthquake       0.04      0.00      0.01       782\n",
      "                  cold       0.00      0.00      0.00       182\n",
      "         other_weather       0.33      0.01      0.01       439\n",
      "         direct_report       0.34      0.02      0.04      1688\n",
      "\n",
      "             micro avg       0.46      0.03      0.06     20755\n",
      "             macro avg       0.25      0.01      0.02     20755\n",
      "          weighted avg       0.42      0.03      0.06     20755\n",
      "           samples avg       0.04      0.02      0.03     20755\n",
      "\n"
     ]
    },
    {
     "name": "stderr",
     "output_type": "stream",
     "text": [
      "/home/zeeshan/anaconda3/lib/python3.8/site-packages/sklearn/metrics/_classification.py:1245: UndefinedMetricWarning: Precision and F-score are ill-defined and being set to 0.0 in labels with no predicted samples. Use `zero_division` parameter to control this behavior.\n",
      "  _warn_prf(average, modifier, msg_start, len(result))\n",
      "/home/zeeshan/anaconda3/lib/python3.8/site-packages/sklearn/metrics/_classification.py:1245: UndefinedMetricWarning: Recall and F-score are ill-defined and being set to 0.0 in labels with no true samples. Use `zero_division` parameter to control this behavior.\n",
      "  _warn_prf(average, modifier, msg_start, len(result))\n",
      "/home/zeeshan/anaconda3/lib/python3.8/site-packages/sklearn/metrics/_classification.py:1245: UndefinedMetricWarning: Precision and F-score are ill-defined and being set to 0.0 in samples with no predicted labels. Use `zero_division` parameter to control this behavior.\n",
      "  _warn_prf(average, modifier, msg_start, len(result))\n",
      "/home/zeeshan/anaconda3/lib/python3.8/site-packages/sklearn/metrics/_classification.py:1245: UndefinedMetricWarning: Recall and F-score are ill-defined and being set to 0.0 in samples with no true labels. Use `zero_division` parameter to control this behavior.\n",
      "  _warn_prf(average, modifier, msg_start, len(result))\n"
     ]
    }
   ],
   "source": [
    "print(generate_results(Y_test.iloc[:, :].values, predicted, Y_test.columns))"
   ]
  },
  {
   "cell_type": "markdown",
   "id": "78356294",
   "metadata": {},
   "source": [
    "# For hyperparameters fine-tuning using GridCV and deploying Best Estimator"
   ]
  },
  {
   "cell_type": "code",
   "execution_count": null,
   "id": "AiwDUiSF1eZm",
   "metadata": {
    "colab": {
     "background_save": true,
     "base_uri": "https://localhost:8080/"
    },
    "id": "AiwDUiSF1eZm",
    "outputId": "f8173826-fd89-4664-a91e-d452957288cb"
   },
   "outputs": [],
   "source": [
    "if __name__ == \"__main__\":\n",
    "        \n",
    "\n",
    "    # Combinations of parameters for GridSearch\n",
    "    # For faster run use these parameters\n",
    "    researched_parameters = {'bootstrap': [True],\n",
    "      'criterion':[\"gini\", \"entropy\"],\n",
    "     'max_depth': [80, None],\n",
    "     'min_samples_leaf': [1, 5],\n",
    "     'min_samples_split': [2, 12],\n",
    "     'n_estimators': [50, 100, 200]\n",
    "     }\n",
    "\n",
    "    '''\n",
    "    #  For exhaustive analysis and determination of best parameter use these:\n",
    "    #  Takes longer time\n",
    "    param_grid = {\n",
    "        'bootstrap': [True],\n",
    "        'criterion':[\"gini\", \"entropy\"]\n",
    "        'max_depth': [80, 90, 100, None],\n",
    "        'min_samples_leaf': [1, 4, 5],\n",
    "        'min_samples_split': [2, 10, 12],\n",
    "        'n_estimators': [50, 100, 500, 200]\n",
    "    }\n",
    "    '''\n",
    "\n",
    "    # getting the best estimator\n",
    "    best_clf_re = best_estimator(x_train, y_train, researched_parameters, 5)\n",
    "    best_predictions_re = best_clf_re.predict(x_test)\n",
    "\n",
    "    print(generate_results(y_test.iloc[:, :].values, best_predictions_re, y_test.columns))\n",
    "    \n",
    "    # saving the best model as a pickle file\n",
    "    pickle.dump(best_clf_re, open('Classification_model.pkl','wb'))"
   ]
  },
  {
   "cell_type": "code",
   "execution_count": 23,
   "id": "952d80c8",
   "metadata": {},
   "outputs": [],
   "source": [
    "pickle.dump(clf2, open('Classification_model.pkl','wb'))"
   ]
  }
 ],
 "metadata": {
  "colab": {
   "collapsed_sections": [],
   "name": "ML_pipeline.ipynb",
   "provenance": []
  },
  "kernelspec": {
   "display_name": "Python 3",
   "language": "python",
   "name": "python3"
  },
  "language_info": {
   "codemirror_mode": {
    "name": "ipython",
    "version": 3
   },
   "file_extension": ".py",
   "mimetype": "text/x-python",
   "name": "python",
   "nbconvert_exporter": "python",
   "pygments_lexer": "ipython3",
   "version": "3.8.8"
  }
 },
 "nbformat": 4,
 "nbformat_minor": 5
}
